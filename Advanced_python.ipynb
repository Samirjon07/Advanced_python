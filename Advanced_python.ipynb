{
 "cells": [
  {
   "cell_type": "code",
   "execution_count": 1,
   "id": "4cde9f84-2bd8-4fe1-b277-cdde618cea97",
   "metadata": {},
   "outputs": [
    {
     "name": "stdout",
     "output_type": "stream",
     "text": [
      "<class '__main__.x'>\n"
     ]
    }
   ],
   "source": [
    "class x:\n",
    "    y=5\n",
    "print(x)"
   ]
  },
  {
   "cell_type": "code",
   "execution_count": 3,
   "id": "5562c316-a38a-4033-8b57-f740b12293a1",
   "metadata": {},
   "outputs": [
    {
     "name": "stdout",
     "output_type": "stream",
     "text": [
      "5\n"
     ]
    }
   ],
   "source": [
    "class x:\n",
    "    y=5\n",
    "m1=x()\n",
    "print(m1.y)"
   ]
  },
  {
   "cell_type": "code",
   "execution_count": null,
   "id": "b5401f3e-1790-4a5c-8441-51463e5f4b4a",
   "metadata": {},
   "outputs": [],
   "source": [
    "class animal:\n",
    "    shape1= 4\n",
    "    shape2= 2\n",
    "    tail1=\"With tail\"\n",
    "    tail2=\"Without tail\"\n",
    "class human:\n",
    "    gender1=\"Male\"\n",
    "    gender2=\"Female\"\n",
    "    colour1=\"White\"\n",
    "    colour2=\"Black\"\n",
    "    colour3=\"Brown\"\n",
    "    colour4=\"Red\"\n",
    "    "
   ]
  },
  {
   "cell_type": "code",
   "execution_count": 29,
   "id": "85fc90cb-9bbc-45c2-b8ec-dffdf8125b00",
   "metadata": {},
   "outputs": [
    {
     "name": "stdout",
     "output_type": "stream",
     "text": [
      "Animal\n",
      "Zadnepridosniy\n"
     ]
    }
   ],
   "source": [
    "class human():\n",
    "    def __init__(self,g,c):\n",
    "        self.g=g\n",
    "        self.c=c\n",
    "galety=human(\"Male\",\"Black\")\n",
    "samirjon=human(\"Female\",\"Crystal\")\n",
    "fayozjon=human(\"Animal\",\"Zadnepridosniy\")\n",
    "print(fayozjon.g)\n",
    "print(fayozjon.c)"
   ]
  },
  {
   "cell_type": "code",
   "execution_count": null,
   "id": "baf42652-132e-42ef-ac80-27187e22fb07",
   "metadata": {},
   "outputs": [],
   "source": []
  }
 ],
 "metadata": {
  "kernelspec": {
   "display_name": "Python 3 (ipykernel)",
   "language": "python",
   "name": "python3"
  },
  "language_info": {
   "codemirror_mode": {
    "name": "ipython",
    "version": 3
   },
   "file_extension": ".py",
   "mimetype": "text/x-python",
   "name": "python",
   "nbconvert_exporter": "python",
   "pygments_lexer": "ipython3",
   "version": "3.12.4"
  }
 },
 "nbformat": 4,
 "nbformat_minor": 5
}
